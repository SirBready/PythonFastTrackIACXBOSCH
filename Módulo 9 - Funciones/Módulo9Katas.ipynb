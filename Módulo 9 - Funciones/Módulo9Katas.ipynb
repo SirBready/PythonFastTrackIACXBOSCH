{
 "cells": [
  {
   "attachments": {},
   "cell_type": "markdown",
   "metadata": {
    "slideshow": {
     "slide_type": "slide"
    }
   },
   "source": [
    " # Ejercicio: Uso de funciones en Python "
   ]
  },
  {
   "attachments": {},
   "cell_type": "markdown",
   "metadata": {
    "slideshow": {
     "slide_type": "subslide"
    }
   },
   "source": [
    "### Ejercicio 1: Trabajar con argumentos en funciones\n",
    "\n",
    "Los argumentos requeridos en las funciones se utilizan cuando las funciones necesitan que esos argumentos funcionen correctamente. En este ejercicio, construirás un informe de combustible que requiere información de varias ubicaciones de combustible en todo el cohete.\n",
    "\n"
   ]
  },
  {
   "attachments": {},
   "cell_type": "markdown",
   "metadata": {
    "slideshow": {
     "slide_type": "subslide"
    }
   },
   "source": [
    "> **TIP**\n",
    "> Dedica unos minutos para tratar de encontrar una solución. Luego desplázate hacia abajo hasta la parte inferior para ver si has logrado compilar el programa de acuerdo con las especificaciones\n",
    "\n",
    "Comienza por crear una función que necesite tres lecturas de combustible y devuelva un informe:"
   ]
  },
  {
   "cell_type": "code",
   "execution_count": 1,
   "metadata": {},
   "outputs": [
    {
     "name": "stdout",
     "output_type": "stream",
     "text": [
      "Informe de Combustible:\n",
      "Lectura 1: 50\n",
      "Lectura 2: 75\n",
      "Lectura 3: 60\n",
      "Promedio: 61.666666666666664\n",
      "\n"
     ]
    }
   ],
   "source": [
    "# Función para leer 3 tanques de combustible y muestre el promedio\n",
    "\n",
    "def generar_informe_combustible(lectura1, lectura2, lectura3):\n",
    "    promedio = (lectura1 + lectura2 + lectura3) / 3\n",
    "    informe = \"Informe de Combustible:\\n\"\n",
    "    informe += f\"Lectura 1: {lectura1}\\n\"\n",
    "    informe += f\"Lectura 2: {lectura2}\\n\"\n",
    "    informe += f\"Lectura 3: {lectura3}\\n\"\n",
    "    informe += f\"Promedio: {promedio}\\n\"\n",
    "    return informe\n",
    "\n",
    "resultado = generar_informe_combustible(50, 75, 60)\n",
    "print(resultado)\n"
   ]
  },
  {
   "attachments": {},
   "cell_type": "markdown",
   "metadata": {},
   "source": [
    "Ahora que hemos definido la función de informes, vamos a comprobarlo. Para esta misión, los tanques no están llenos:"
   ]
  },
  {
   "cell_type": "code",
   "execution_count": 2,
   "metadata": {},
   "outputs": [
    {
     "name": "stdout",
     "output_type": "stream",
     "text": [
      "Informe de Combustible:\n",
      "Lectura 1: 30\n",
      "Lectura 2: 40\n",
      "Lectura 3: 35\n",
      "Promedio: 35.0\n",
      "\n"
     ]
    }
   ],
   "source": [
    "\n",
    "# Llamamos a la función que genera el reporte print(funcion(tanque1, tanque2, tanque3))\n",
    "\n",
    "def generar_informe_combustible(lectura1, lectura2, lectura3):\n",
    "    promedio = (lectura1 + lectura2 + lectura3) / 3\n",
    "    informe = \"Informe de Combustible:\\n\"\n",
    "    informe += f\"Lectura 1: {lectura1}\\n\"\n",
    "    informe += f\"Lectura 2: {lectura2}\\n\"\n",
    "    informe += f\"Lectura 3: {lectura3}\\n\"\n",
    "    informe += f\"Promedio: {promedio}\\n\"\n",
    "    return informe\n",
    "\n",
    "tanque1 = 30\n",
    "tanque2 = 40\n",
    "tanque3 = 35\n",
    "\n",
    "resultado = generar_informe_combustible(tanque1, tanque2, tanque3)\n",
    "print(resultado)\n"
   ]
  },
  {
   "attachments": {},
   "cell_type": "markdown",
   "metadata": {},
   "source": [
    "En lugar de simplemente crear el informe, la función también está calculando el promedio. Mejora la legibilidad extrayendo el cálculo promedio de la función en una nueva función para que el promedio se pueda hacer de forma independiente:"
   ]
  },
  {
   "cell_type": "code",
   "execution_count": 3,
   "metadata": {},
   "outputs": [
    {
     "name": "stdout",
     "output_type": "stream",
     "text": [
      "Informe de Combustible:\n",
      "Lectura 1: 30\n",
      "Lectura 2: 40\n",
      "Lectura 3: 35\n",
      "Promedio: 35.0\n",
      "\n"
     ]
    }
   ],
   "source": [
    "# Función promedio \n",
    "\n",
    "def calcular_promedio(lectura1, lectura2, lectura3):\n",
    "    promedio = (lectura1 + lectura2 + lectura3) / 3\n",
    "    return promedio\n",
    "\n",
    "def generar_informe_combustible(lectura1, lectura2, lectura3):\n",
    "    promedio = calcular_promedio(lectura1, lectura2, lectura3)\n",
    "    informe = \"Informe de Combustible:\\n\"\n",
    "    informe += f\"Lectura 1: {lectura1}\\n\"\n",
    "    informe += f\"Lectura 2: {lectura2}\\n\"\n",
    "    informe += f\"Lectura 3: {lectura3}\\n\"\n",
    "    informe += f\"Promedio: {promedio}\\n\"\n",
    "    return informe\n",
    "\n",
    "tanque1 = 30\n",
    "tanque2 = 40\n",
    "tanque3 = 35\n",
    "\n",
    "resultado = generar_informe_combustible(tanque1, tanque2, tanque3)\n",
    "print(resultado)\n"
   ]
  },
  {
   "attachments": {},
   "cell_type": "markdown",
   "metadata": {},
   "source": [
    "Ahora actualiza la función de informes para llamando a la nueva función del promedio:\n"
   ]
  },
  {
   "cell_type": "code",
   "execution_count": 4,
   "metadata": {},
   "outputs": [
    {
     "name": "stdout",
     "output_type": "stream",
     "text": [
      "Informe de Combustible:\n",
      "Lectura 1: 30\n",
      "Lectura 2: 40\n",
      "Lectura 3: 35\n",
      "Promedio: 35.0\n",
      "\n"
     ]
    }
   ],
   "source": [
    "# Actualiza la función\n",
    "\n",
    "def calcular_promedio(lectura1, lectura2, lectura3):\n",
    "    promedio = (lectura1 + lectura2 + lectura3) / 3\n",
    "    return promedio\n",
    "\n",
    "def generar_informe_combustible(lectura1, lectura2, lectura3):\n",
    "    promedio = calcular_promedio(lectura1, lectura2, lectura3)\n",
    "    informe = \"Informe de Combustible:\\n\"\n",
    "    informe += f\"Lectura 1: {lectura1}\\n\"\n",
    "    informe += f\"Lectura 2: {lectura2}\\n\"\n",
    "    informe += f\"Lectura 3: {lectura3}\\n\"\n",
    "    informe += f\"Promedio: {promedio}\\n\"\n",
    "    return informe\n",
    "\n",
    "tanque1 = 30\n",
    "tanque2 = 40\n",
    "tanque3 = 35\n",
    "\n",
    "resultado = generar_informe_combustible(tanque1, tanque2, tanque3)\n",
    "print(resultado)"
   ]
  },
  {
   "attachments": {},
   "cell_type": "markdown",
   "metadata": {},
   "source": [
    "> Recuerda: Lo importante es intentarlo, puedes auxiliarte de internet, libros, etc. El objetivo de una kata es la comprobación de la comprensión de la lección y su aplicación inmediata a la resolución de problemas. Go for it!"
   ]
  },
  {
   "attachments": {},
   "cell_type": "markdown",
   "metadata": {
    "slideshow": {
     "slide_type": "slide"
    }
   },
   "source": [
    "## Ejercicio 2: Trabajo con argumentos de palabra clave"
   ]
  },
  {
   "attachments": {},
   "cell_type": "markdown",
   "metadata": {
    "slideshow": {
     "slide_type": "subslide"
    }
   },
   "source": [
    "### Ejercicio : Trabajar con argumentos de palabras clave en funciones\n",
    "En este ejercicio, construirás un informe de cohete que requiere varias piezas de información, como el tiempo hasta el destino, el combustible a la izquierda y el nombre del destino. Comienza por crear una función que creará un informe preciso de la misión:"
   ]
  },
  {
   "cell_type": "code",
   "execution_count": 5,
   "metadata": {},
   "outputs": [
    {
     "name": "stdout",
     "output_type": "stream",
     "text": [
      "Informe de la Misión:\n",
      "Hora de Prelanzamiento: 12:00 PM\n",
      "Tiempo de Vuelo: 2 horas\n",
      "Destino: Luna\n",
      "Tanque Externo: 70%\n",
      "Tanque Interno: 40%\n",
      "\n"
     ]
    }
   ],
   "source": [
    "# Función con un informe preciso de la misión. Considera hora de prelanzamiento, tiempo de vuelo, destino, tanque externo y tanque interno\n",
    "\n",
    "def generar_informe_mision(hora_prelanzamiento, tiempo_vuelo, destino, tanque_externo, tanque_interno):\n",
    "    informe = \"Informe de la Misión:\\n\"\n",
    "    informe += f\"Hora de Prelanzamiento: {hora_prelanzamiento}\\n\"\n",
    "    informe += f\"Tiempo de Vuelo: {tiempo_vuelo}\\n\"\n",
    "    informe += f\"Destino: {destino}\\n\"\n",
    "    informe += f\"Tanque Externo: {tanque_externo}\\n\"\n",
    "    informe += f\"Tanque Interno: {tanque_interno}\\n\"\n",
    "    return informe\n",
    "\n",
    "hora_prelanzamiento = \"12:00 PM\"\n",
    "tiempo_vuelo = \"2 horas\"\n",
    "destino = \"Luna\"\n",
    "tanque_externo = \"70%\"\n",
    "tanque_interno = \"40%\"\n",
    "\n",
    "resultado = generar_informe_mision(hora_prelanzamiento=hora_prelanzamiento, tiempo_vuelo=tiempo_vuelo, destino=destino, tanque_externo=tanque_externo, tanque_interno=tanque_interno)\n",
    "print(resultado)\n"
   ]
  },
  {
   "attachments": {},
   "cell_type": "markdown",
   "metadata": {
    "slideshow": {
     "slide_type": "subslide"
    }
   },
   "source": [
    "La función es problemática porque no se puede adaptar para minutos adicionales o tanques adicionales de combustible. Hazlo más flexible permitiendo cualquier número de pasos basados en el tiempo y cualquier número de tanques. En lugar de usar `*args` y `**kwargs`, aprovecha el hecho de que puedes usar cualquier nombre que desees. Asegurate que la función sea más legible mediante el uso de nombres de variables que están asociados con las entradas, como `*minutes` y `**fuel_reservoirs`:"
   ]
  },
  {
   "cell_type": "code",
   "execution_count": 6,
   "metadata": {},
   "outputs": [
    {
     "name": "stdout",
     "output_type": "stream",
     "text": [
      "Informe de la Misión:\n",
      "Hora de Prelanzamiento: 12:00 PM\n",
      "Pasos de Tiempo:\n",
      "Paso 1: 2 horas\n",
      "Paso 2: 30 minutos\n",
      "Paso 3: 15 minutos\n",
      "Tanques de Combustible:\n",
      "Tanque Externo: 70%\n",
      "Tanque Interno: 40%\n",
      "Tanque Adicional: 90%\n",
      "\n"
     ]
    }
   ],
   "source": [
    "# Escribe tu nueva función de reporte considerando lo anterior\n",
    "\n",
    "def generar_informe_mision(hora_prelanzamiento, *tiempos, **tanques):\n",
    "    informe = \"Informe de la Misión:\\n\"\n",
    "    informe += f\"Hora de Prelanzamiento: {hora_prelanzamiento}\\n\"\n",
    "\n",
    "    informe += \"Pasos de Tiempo:\\n\"\n",
    "    for i, tiempo in enumerate(tiempos, start=1):\n",
    "        informe += f\"Paso {i}: {tiempo}\\n\"\n",
    "\n",
    "    informe += \"Tanques de Combustible:\\n\"\n",
    "    for tanque, nivel in tanques.items():\n",
    "        informe += f\"{tanque}: {nivel}\\n\"\n",
    "\n",
    "    return informe\n",
    "\n",
    "hora_prelanzamiento = \"12:00 PM\"\n",
    "tiempos = [\"2 horas\", \"30 minutos\", \"15 minutos\"]\n",
    "tanques = {\n",
    "    \"Tanque Externo\": \"70%\",\n",
    "    \"Tanque Interno\": \"40%\",\n",
    "    \"Tanque Adicional\": \"90%\",\n",
    "}\n",
    "\n",
    "resultado = generar_informe_mision(hora_prelanzamiento, *tiempos, **tanques)\n",
    "print(resultado)\n"
   ]
  },
  {
   "attachments": {},
   "cell_type": "markdown",
   "metadata": {
    "slideshow": {
     "slide_type": "subslide"
    }
   },
   "source": [
    "Debido a que el combustible que queda en los tanques es específico de cada tanque, actualiza la función para usar el nombre de cada tanque en el informe:"
   ]
  },
  {
   "cell_type": "code",
   "execution_count": 7,
   "metadata": {},
   "outputs": [
    {
     "name": "stdout",
     "output_type": "stream",
     "text": [
      "Informe de la Misión:\n",
      "Hora de Prelanzamiento: 12:00 PM\n",
      "Pasos de Tiempo:\n",
      "Paso 1: 2 horas\n",
      "Paso 2: 30 minutos\n",
      "Paso 3: 15 minutos\n",
      "Tanques de Combustible:\n",
      "Tanque Externo: 70%\n",
      "Tanque Interno: 40%\n",
      "Tanque Adicional: 90%\n",
      "\n"
     ]
    }
   ],
   "source": [
    "# Escribe tu nueva función\n",
    "\n",
    "def generar_informe_mision(hora_prelanzamiento, *tiempos, **tanques):\n",
    "    informe = \"Informe de la Misión:\\n\"\n",
    "    informe += f\"Hora de Prelanzamiento: {hora_prelanzamiento}\\n\"\n",
    "\n",
    "    informe += \"Pasos de Tiempo:\\n\"\n",
    "    for i, tiempo in enumerate(tiempos, start=1):\n",
    "        informe += f\"Paso {i}: {tiempo}\\n\"\n",
    "\n",
    "    informe += \"Tanques de Combustible:\\n\"\n",
    "    for tanque, nivel in tanques.items():\n",
    "        informe += f\"{tanque}: {nivel}\\n\"\n",
    "\n",
    "    return informe\n",
    "\n",
    "hora_prelanzamiento = \"12:00 PM\"\n",
    "tiempos = [\"2 horas\", \"30 minutos\", \"15 minutos\"]\n",
    "tanques = {\n",
    "    \"Tanque Externo\": \"70%\",\n",
    "    \"Tanque Interno\": \"40%\",\n",
    "    \"Tanque Adicional\": \"90%\",\n",
    "}\n",
    "\n",
    "resultado = generar_informe_mision(hora_prelanzamiento, *tiempos, **tanques)\n",
    "print(resultado)\n"
   ]
  },
  {
   "attachments": {},
   "cell_type": "markdown",
   "metadata": {
    "slideshow": {
     "slide_type": "slide"
    }
   },
   "source": [
    "## Soluciones"
   ]
  },
  {
   "attachments": {},
   "cell_type": "markdown",
   "metadata": {
    "slideshow": {
     "slide_type": "subslide"
    }
   },
   "source": [
    "## Ejercicio 1"
   ]
  },
  {
   "cell_type": "code",
   "execution_count": 8,
   "metadata": {
    "slideshow": {
     "slide_type": "subslide"
    }
   },
   "outputs": [],
   "source": [
    "# Función para leer 3 tanques de combustible y muestre el promedio\n",
    "\n",
    "def generate_report(main_tank, external_tank, hydrogen_tank):\n",
    "    total_average = (main_tank + external_tank + hydrogen_tank) / 3\n",
    "    return f\"\"\"Fuel Report:\n",
    "    Total Average: {total_average}%\n",
    "    Main tank: {main_tank}%\n",
    "    External tank: {external_tank}%\n",
    "    Hydrogen tank: {hydrogen_tank}% \n",
    "    \"\"\"\n"
   ]
  },
  {
   "cell_type": "code",
   "execution_count": 9,
   "metadata": {
    "slideshow": {
     "slide_type": "subslide"
    }
   },
   "outputs": [
    {
     "name": "stdout",
     "output_type": "stream",
     "text": [
      "Fuel Report:\n",
      "    Total Average: 78.33333333333333%\n",
      "    Main tank: 80%\n",
      "    External tank: 70%\n",
      "    Hydrogen tank: 85% \n",
      "    \n"
     ]
    }
   ],
   "source": [
    "# Llamamos a la función que genera el reporte print(funcion(tanque1, tanque2, tanque3))\n",
    "print(generate_report(80, 70, 85))"
   ]
  },
  {
   "cell_type": "code",
   "execution_count": 10,
   "metadata": {
    "slideshow": {
     "slide_type": "subslide"
    }
   },
   "outputs": [
    {
     "data": {
      "text/plain": [
       "82.0"
      ]
     },
     "execution_count": 10,
     "metadata": {},
     "output_type": "execute_result"
    }
   ],
   "source": [
    "# Función promedio \n",
    "def average(values):\n",
    "    total = sum(values)\n",
    "    number_of_items = len(values)\n",
    "    return total / number_of_items\n",
    "\n",
    "# Test the averaging function with a list of integers:\n",
    "average([80, 85, 81]) "
   ]
  },
  {
   "cell_type": "code",
   "execution_count": 11,
   "metadata": {
    "slideshow": {
     "slide_type": "subslide"
    }
   },
   "outputs": [
    {
     "name": "stdout",
     "output_type": "stream",
     "text": [
      "Fuel Report:\n",
      "    Total Average: 78.0%\n",
      "    Main tank: 88%\n",
      "    External tank: 76%\n",
      "    Hydrogen tank: 70% \n",
      "    \n"
     ]
    }
   ],
   "source": [
    "# Actualiza la función\n",
    "def generate_report(main_tank, external_tank, hydrogen_tank):\n",
    "    return f\"\"\"Fuel Report:\n",
    "    Total Average: {average([main_tank, external_tank, hydrogen_tank])}%\n",
    "    Main tank: {main_tank}%\n",
    "    External tank: {external_tank}%\n",
    "    Hydrogen tank: {hydrogen_tank}% \n",
    "    \"\"\"\n",
    "\n",
    "# Call the updated function again with different values\n",
    "print(generate_report(88, 76, 70))"
   ]
  },
  {
   "attachments": {},
   "cell_type": "markdown",
   "metadata": {
    "slideshow": {
     "slide_type": "slide"
    }
   },
   "source": [
    "### Ejercicio 2:"
   ]
  },
  {
   "cell_type": "code",
   "execution_count": 12,
   "metadata": {
    "slideshow": {
     "slide_type": "subslide"
    }
   },
   "outputs": [
    {
     "name": "stdout",
     "output_type": "stream",
     "text": [
      "\n",
      "    Mission to Moon\n",
      "    Total travel time: 65 minutes\n",
      "    Total fuel left: 500000 gallons\n",
      "    \n"
     ]
    }
   ],
   "source": [
    "# Función con un informe preciso de la misión. Considera hora de prelanzamiento, tiempo de vuelo, destino, tanque externo y tanque interno\n",
    "\n",
    "def mission_report(pre_launch_time, flight_time, destination, external_tank, main_tank):\n",
    "    return f\"\"\"\n",
    "    Mission to {destination}\n",
    "    Total travel time: {pre_launch_time + flight_time} minutes\n",
    "    Total fuel left: {external_tank + main_tank} gallons\n",
    "    \"\"\"\n",
    "\n",
    "print(mission_report(14, 51, \"Moon\", 200000, 300000))"
   ]
  },
  {
   "cell_type": "code",
   "execution_count": 13,
   "metadata": {
    "slideshow": {
     "slide_type": "subslide"
    }
   },
   "outputs": [
    {
     "name": "stdout",
     "output_type": "stream",
     "text": [
      "\n",
      "    Mission to Moon\n",
      "    Total travel time: 76 minutes\n",
      "    Total fuel left: 500000\n",
      "    \n"
     ]
    }
   ],
   "source": [
    "# Escribe tu nueva función de reporte considerando lo anterior\n",
    "\n",
    "def mission_report(destination, *minutes, **fuel_reservoirs):\n",
    "    return f\"\"\"\n",
    "    Mission to {destination}\n",
    "    Total travel time: {sum(minutes)} minutes\n",
    "    Total fuel left: {sum(fuel_reservoirs.values())}\n",
    "    \"\"\"\n",
    "\n",
    "print(mission_report(\"Moon\", 10, 15, 51, main=300000, external=200000))"
   ]
  },
  {
   "cell_type": "code",
   "execution_count": 14,
   "metadata": {
    "slideshow": {
     "slide_type": "subslide"
    }
   },
   "outputs": [
    {
     "name": "stdout",
     "output_type": "stream",
     "text": [
      "\n",
      "    Mission to Moon\n",
      "    Total travel time: 74 minutes\n",
      "    Total fuel left: 500000\n",
      "    main tank --> 300000 gallons left\n",
      "external tank --> 200000 gallons left\n",
      "\n"
     ]
    }
   ],
   "source": [
    "# Escribe tu nueva función\n",
    "\n",
    "def mission_report(destination, *minutes, **fuel_reservoirs):\n",
    "    main_report = f\"\"\"\n",
    "    Mission to {destination}\n",
    "    Total travel time: {sum(minutes)} minutes\n",
    "    Total fuel left: {sum(fuel_reservoirs.values())}\n",
    "    \"\"\"\n",
    "    for tank_name, gallons in fuel_reservoirs.items():\n",
    "        main_report += f\"{tank_name} tank --> {gallons} gallons left\\n\"\n",
    "    return main_report\n",
    "\n",
    "print(mission_report(\"Moon\", 8, 11, 55, main=300000, external=200000))"
   ]
  }
 ],
 "metadata": {
  "celltoolbar": "Slideshow",
  "interpreter": {
   "hash": "205095b8b86ea82a021a8fc2ffba2b3bc9f8d0be25999901963b225939f75778"
  },
  "kernelspec": {
   "display_name": "Python 3 (ipykernel)",
   "language": "python",
   "name": "python3"
  },
  "language_info": {
   "codemirror_mode": {
    "name": "ipython",
    "version": 3
   },
   "file_extension": ".py",
   "mimetype": "text/x-python",
   "name": "python",
   "nbconvert_exporter": "python",
   "pygments_lexer": "ipython3",
   "version": "3.11.4"
  },
  "nteract": {
   "version": "nteract-front-end@1.0.0"
  }
 },
 "nbformat": 4,
 "nbformat_minor": 2
}
